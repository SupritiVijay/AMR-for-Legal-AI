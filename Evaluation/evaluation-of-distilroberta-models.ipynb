{
 "cells": [
  {
   "cell_type": "code",
   "execution_count": 1,
   "metadata": {
    "execution": {
     "iopub.execute_input": "2023-06-22T03:33:33.974457Z",
     "iopub.status.busy": "2023-06-22T03:33:33.974078Z",
     "iopub.status.idle": "2023-06-22T03:33:50.000082Z",
     "shell.execute_reply": "2023-06-22T03:33:49.998731Z",
     "shell.execute_reply.started": "2023-06-22T03:33:33.974423Z"
    }
   },
   "outputs": [
    {
     "name": "stdout",
     "output_type": "stream",
     "text": [
      "Requirement already satisfied: datasets in /opt/conda/lib/python3.10/site-packages (2.1.0)\n",
      "Requirement already satisfied: numpy>=1.17 in /opt/conda/lib/python3.10/site-packages (from datasets) (1.23.5)\n",
      "Requirement already satisfied: pyarrow>=5.0.0 in /opt/conda/lib/python3.10/site-packages (from datasets) (10.0.1)\n",
      "Requirement already satisfied: dill in /opt/conda/lib/python3.10/site-packages (from datasets) (0.3.6)\n",
      "Requirement already satisfied: pandas in /opt/conda/lib/python3.10/site-packages (from datasets) (1.5.3)\n",
      "Requirement already satisfied: requests>=2.19.0 in /opt/conda/lib/python3.10/site-packages (from datasets) (2.28.2)\n",
      "Requirement already satisfied: tqdm>=4.62.1 in /opt/conda/lib/python3.10/site-packages (from datasets) (4.64.1)\n",
      "Requirement already satisfied: xxhash in /opt/conda/lib/python3.10/site-packages (from datasets) (3.2.0)\n",
      "Requirement already satisfied: multiprocess in /opt/conda/lib/python3.10/site-packages (from datasets) (0.70.14)\n",
      "Requirement already satisfied: fsspec[http]>=2021.05.0 in /opt/conda/lib/python3.10/site-packages (from datasets) (2023.5.0)\n",
      "Requirement already satisfied: aiohttp in /opt/conda/lib/python3.10/site-packages (from datasets) (3.8.4)\n",
      "Requirement already satisfied: huggingface-hub<1.0.0,>=0.1.0 in /opt/conda/lib/python3.10/site-packages (from datasets) (0.14.1)\n",
      "Requirement already satisfied: packaging in /opt/conda/lib/python3.10/site-packages (from datasets) (21.3)\n",
      "Requirement already satisfied: responses<0.19 in /opt/conda/lib/python3.10/site-packages (from datasets) (0.18.0)\n",
      "Requirement already satisfied: attrs>=17.3.0 in /opt/conda/lib/python3.10/site-packages (from aiohttp->datasets) (23.1.0)\n",
      "Requirement already satisfied: charset-normalizer<4.0,>=2.0 in /opt/conda/lib/python3.10/site-packages (from aiohttp->datasets) (2.1.1)\n",
      "Requirement already satisfied: multidict<7.0,>=4.5 in /opt/conda/lib/python3.10/site-packages (from aiohttp->datasets) (6.0.4)\n",
      "Requirement already satisfied: async-timeout<5.0,>=4.0.0a3 in /opt/conda/lib/python3.10/site-packages (from aiohttp->datasets) (4.0.2)\n",
      "Requirement already satisfied: yarl<2.0,>=1.0 in /opt/conda/lib/python3.10/site-packages (from aiohttp->datasets) (1.9.1)\n",
      "Requirement already satisfied: frozenlist>=1.1.1 in /opt/conda/lib/python3.10/site-packages (from aiohttp->datasets) (1.3.3)\n",
      "Requirement already satisfied: aiosignal>=1.1.2 in /opt/conda/lib/python3.10/site-packages (from aiohttp->datasets) (1.3.1)\n",
      "Requirement already satisfied: filelock in /opt/conda/lib/python3.10/site-packages (from huggingface-hub<1.0.0,>=0.1.0->datasets) (3.12.0)\n",
      "Requirement already satisfied: pyyaml>=5.1 in /opt/conda/lib/python3.10/site-packages (from huggingface-hub<1.0.0,>=0.1.0->datasets) (5.4.1)\n",
      "Requirement already satisfied: typing-extensions>=3.7.4.3 in /opt/conda/lib/python3.10/site-packages (from huggingface-hub<1.0.0,>=0.1.0->datasets) (4.5.0)\n",
      "Requirement already satisfied: pyparsing!=3.0.5,>=2.0.2 in /opt/conda/lib/python3.10/site-packages (from packaging->datasets) (3.0.9)\n",
      "Requirement already satisfied: idna<4,>=2.5 in /opt/conda/lib/python3.10/site-packages (from requests>=2.19.0->datasets) (3.4)\n",
      "Requirement already satisfied: urllib3<1.27,>=1.21.1 in /opt/conda/lib/python3.10/site-packages (from requests>=2.19.0->datasets) (1.26.15)\n",
      "Requirement already satisfied: certifi>=2017.4.17 in /opt/conda/lib/python3.10/site-packages (from requests>=2.19.0->datasets) (2023.5.7)\n",
      "Requirement already satisfied: python-dateutil>=2.8.1 in /opt/conda/lib/python3.10/site-packages (from pandas->datasets) (2.8.2)\n",
      "Requirement already satisfied: pytz>=2020.1 in /opt/conda/lib/python3.10/site-packages (from pandas->datasets) (2023.3)\n",
      "Requirement already satisfied: six>=1.5 in /opt/conda/lib/python3.10/site-packages (from python-dateutil>=2.8.1->pandas->datasets) (1.16.0)\n",
      "\u001b[33mWARNING: Running pip as the 'root' user can result in broken permissions and conflicting behaviour with the system package manager. It is recommended to use a virtual environment instead: https://pip.pypa.io/warnings/venv\u001b[0m\u001b[33m\n",
      "\u001b[0m"
     ]
    }
   ],
   "source": [
    "!pip install datasets"
   ]
  },
  {
   "cell_type": "code",
   "execution_count": 2,
   "metadata": {
    "execution": {
     "iopub.execute_input": "2023-06-22T03:33:50.007014Z",
     "iopub.status.busy": "2023-06-22T03:33:50.005990Z",
     "iopub.status.idle": "2023-06-22T03:34:02.437773Z",
     "shell.execute_reply": "2023-06-22T03:34:02.436420Z",
     "shell.execute_reply.started": "2023-06-22T03:33:50.006949Z"
    }
   },
   "outputs": [
    {
     "name": "stdout",
     "output_type": "stream",
     "text": [
      "Requirement already satisfied: transformers in /opt/conda/lib/python3.10/site-packages (4.29.2)\n",
      "Requirement already satisfied: filelock in /opt/conda/lib/python3.10/site-packages (from transformers) (3.12.0)\n",
      "Requirement already satisfied: huggingface-hub<1.0,>=0.14.1 in /opt/conda/lib/python3.10/site-packages (from transformers) (0.14.1)\n",
      "Requirement already satisfied: numpy>=1.17 in /opt/conda/lib/python3.10/site-packages (from transformers) (1.23.5)\n",
      "Requirement already satisfied: packaging>=20.0 in /opt/conda/lib/python3.10/site-packages (from transformers) (21.3)\n",
      "Requirement already satisfied: pyyaml>=5.1 in /opt/conda/lib/python3.10/site-packages (from transformers) (5.4.1)\n",
      "Requirement already satisfied: regex!=2019.12.17 in /opt/conda/lib/python3.10/site-packages (from transformers) (2023.5.5)\n",
      "Requirement already satisfied: requests in /opt/conda/lib/python3.10/site-packages (from transformers) (2.28.2)\n",
      "Requirement already satisfied: tokenizers!=0.11.3,<0.14,>=0.11.1 in /opt/conda/lib/python3.10/site-packages (from transformers) (0.13.3)\n",
      "Requirement already satisfied: tqdm>=4.27 in /opt/conda/lib/python3.10/site-packages (from transformers) (4.64.1)\n",
      "Requirement already satisfied: fsspec in /opt/conda/lib/python3.10/site-packages (from huggingface-hub<1.0,>=0.14.1->transformers) (2023.5.0)\n",
      "Requirement already satisfied: typing-extensions>=3.7.4.3 in /opt/conda/lib/python3.10/site-packages (from huggingface-hub<1.0,>=0.14.1->transformers) (4.5.0)\n",
      "Requirement already satisfied: pyparsing!=3.0.5,>=2.0.2 in /opt/conda/lib/python3.10/site-packages (from packaging>=20.0->transformers) (3.0.9)\n",
      "Requirement already satisfied: charset-normalizer<4,>=2 in /opt/conda/lib/python3.10/site-packages (from requests->transformers) (2.1.1)\n",
      "Requirement already satisfied: idna<4,>=2.5 in /opt/conda/lib/python3.10/site-packages (from requests->transformers) (3.4)\n",
      "Requirement already satisfied: urllib3<1.27,>=1.21.1 in /opt/conda/lib/python3.10/site-packages (from requests->transformers) (1.26.15)\n",
      "Requirement already satisfied: certifi>=2017.4.17 in /opt/conda/lib/python3.10/site-packages (from requests->transformers) (2023.5.7)\n",
      "\u001b[33mWARNING: Running pip as the 'root' user can result in broken permissions and conflicting behaviour with the system package manager. It is recommended to use a virtual environment instead: https://pip.pypa.io/warnings/venv\u001b[0m\u001b[33m\n",
      "\u001b[0m"
     ]
    }
   ],
   "source": [
    "!pip install transformers"
   ]
  },
  {
   "cell_type": "code",
   "execution_count": 3,
   "metadata": {
    "execution": {
     "iopub.execute_input": "2023-06-22T03:34:02.440587Z",
     "iopub.status.busy": "2023-06-22T03:34:02.440150Z",
     "iopub.status.idle": "2023-06-22T03:34:02.598253Z",
     "shell.execute_reply": "2023-06-22T03:34:02.597190Z",
     "shell.execute_reply.started": "2023-06-22T03:34:02.440541Z"
    }
   },
   "outputs": [
    {
     "data": {
      "text/plain": [
       "['/kaggle/input/etchr-amr-dataset/NLTK-Sentence-Splitter/NLTK-Sentence-Splitter/TestCase_0000.csv',\n",
       " '/kaggle/input/etchr-amr-dataset/NLTK-Sentence-Splitter/NLTK-Sentence-Splitter/TestCase_0001.csv',\n",
       " '/kaggle/input/etchr-amr-dataset/NLTK-Sentence-Splitter/NLTK-Sentence-Splitter/TestCase_0002.csv',\n",
       " '/kaggle/input/etchr-amr-dataset/NLTK-Sentence-Splitter/NLTK-Sentence-Splitter/TestCase_0003.csv',\n",
       " '/kaggle/input/etchr-amr-dataset/NLTK-Sentence-Splitter/NLTK-Sentence-Splitter/TestCase_0004.csv']"
      ]
     },
     "execution_count": 3,
     "metadata": {},
     "output_type": "execute_result"
    }
   ],
   "source": [
    "import os\n",
    "\n",
    "base_path = \"**AMR-parsed test dataset**\"\n",
    "files = sorted([base_path+f for f in os.listdir(base_path)])\n",
    "files[:5]"
   ]
  },
  {
   "cell_type": "code",
   "execution_count": 4,
   "metadata": {
    "execution": {
     "iopub.execute_input": "2023-06-22T03:34:02.603555Z",
     "iopub.status.busy": "2023-06-22T03:34:02.602617Z",
     "iopub.status.idle": "2023-06-22T03:34:22.157912Z",
     "shell.execute_reply": "2023-06-22T03:34:22.156910Z",
     "shell.execute_reply.started": "2023-06-22T03:34:02.603520Z"
    }
   },
   "outputs": [
    {
     "data": {
      "application/vnd.jupyter.widget-view+json": {
       "model_id": "5dd684dd99ed41c68007b9ebb9741e9a",
       "version_major": 2,
       "version_minor": 0
      },
      "text/plain": [
       "Downloading (…)okenizer_config.json:   0%|          | 0.00/48.0 [00:00<?, ?B/s]"
      ]
     },
     "metadata": {},
     "output_type": "display_data"
    },
    {
     "data": {
      "application/vnd.jupyter.widget-view+json": {
       "model_id": "c18dd1ba773e49308eeea67296ef8bf6",
       "version_major": 2,
       "version_minor": 0
      },
      "text/plain": [
       "Downloading (…)lve/main/config.json:   0%|          | 0.00/989 [00:00<?, ?B/s]"
      ]
     },
     "metadata": {},
     "output_type": "display_data"
    },
    {
     "data": {
      "application/vnd.jupyter.widget-view+json": {
       "model_id": "d9d68598e5c84c8190a4fd5c5e160ad8",
       "version_major": 2,
       "version_minor": 0
      },
      "text/plain": [
       "Downloading (…)solve/main/vocab.txt: 0.00B [00:00, ?B/s]"
      ]
     },
     "metadata": {},
     "output_type": "display_data"
    },
    {
     "name": "stderr",
     "output_type": "stream",
     "text": [
      "/opt/conda/lib/python3.10/site-packages/tensorflow_io/python/ops/__init__.py:98: UserWarning: unable to load libtensorflow_io_plugins.so: unable to open file: libtensorflow_io_plugins.so, from paths: ['/opt/conda/lib/python3.10/site-packages/tensorflow_io/python/ops/libtensorflow_io_plugins.so']\n",
      "caused by: ['/opt/conda/lib/python3.10/site-packages/tensorflow_io/python/ops/libtensorflow_io_plugins.so: undefined symbol: _ZN3tsl6StatusC1EN10tensorflow5error4CodeESt17basic_string_viewIcSt11char_traitsIcEENS_14SourceLocationE']\n",
      "  warnings.warn(f\"unable to load libtensorflow_io_plugins.so: {e}\")\n",
      "/opt/conda/lib/python3.10/site-packages/tensorflow_io/python/ops/__init__.py:104: UserWarning: file system plugins are not loaded: unable to open file: libtensorflow_io.so, from paths: ['/opt/conda/lib/python3.10/site-packages/tensorflow_io/python/ops/libtensorflow_io.so']\n",
      "caused by: ['/opt/conda/lib/python3.10/site-packages/tensorflow_io/python/ops/libtensorflow_io.so: undefined symbol: _ZTVN10tensorflow13GcsFileSystemE']\n",
      "  warnings.warn(f\"file system plugins are not loaded: {e}\")\n"
     ]
    },
    {
     "data": {
      "application/vnd.jupyter.widget-view+json": {
       "model_id": "ba01c6058dc44e96a4d3bfc8b21aa1b9",
       "version_major": 2,
       "version_minor": 0
      },
      "text/plain": [
       "Downloading pytorch_model.bin:   0%|          | 0.00/141M [00:00<?, ?B/s]"
      ]
     },
     "metadata": {},
     "output_type": "display_data"
    },
    {
     "name": "stderr",
     "output_type": "stream",
     "text": [
      "Some weights of the model checkpoint at nlpaueb/legal-bert-small-uncased were not used when initializing BertModel: ['cls.predictions.decoder.weight', 'cls.seq_relationship.weight', 'cls.seq_relationship.bias', 'cls.predictions.transform.LayerNorm.bias', 'cls.predictions.bias', 'cls.predictions.transform.dense.weight', 'cls.predictions.decoder.bias', 'cls.predictions.transform.LayerNorm.weight', 'cls.predictions.transform.dense.bias']\n",
      "- This IS expected if you are initializing BertModel from the checkpoint of a model trained on another task or with another architecture (e.g. initializing a BertForSequenceClassification model from a BertForPreTraining model).\n",
      "- This IS NOT expected if you are initializing BertModel from the checkpoint of a model that you expect to be exactly identical (initializing a BertForSequenceClassification model from a BertForSequenceClassification model).\n"
     ]
    }
   ],
   "source": [
    "from transformers import AutoTokenizer, AutoModel\n",
    "import torch\n",
    "\n",
    "tokenizer = AutoTokenizer.from_pretrained(\"distilroberta-base\")\n",
    "bert_model = AutoModel.from_pretrained(\"distilroberta-base\")\n",
    "\n",
    "class HierBERTClassifier(torch.nn.Module):\n",
    "    def __init__(self, bert_model, num_classes=10):\n",
    "        super().__init__()\n",
    "        self.bert_model = bert_model\n",
    "        self.num_classes = num_classes\n",
    "        self.seg_encoder = torch.nn.Transformer(d_model=self.bert_model.config.hidden_size,\n",
    "                                                nhead=self.bert_model.config.num_attention_heads,\n",
    "                                                batch_first=True,\n",
    "                                                dim_feedforward=self.bert_model.config.intermediate_size,\n",
    "                                                activation=self.bert_model.config.hidden_act,\n",
    "                                                dropout=self.bert_model.config.hidden_dropout_prob,\n",
    "                                                layer_norm_eps=self.bert_model.config.layer_norm_eps,\n",
    "                                                num_encoder_layers=2, num_decoder_layers=0).encoder\n",
    "        self.dropout = torch.nn.Dropout(self.bert_model.config.hidden_dropout_prob)\n",
    "        self.classifier = torch.nn.Linear(768, num_classes)\n",
    "        \n",
    "        \n",
    "    def forward(self, input_ids, attention_mask):\n",
    "        encoded_outputs = self.bert_model(input_ids=input_ids, attention_mask=attention_mask)[0]\n",
    "        encoded_outputs = encoded_outputs.contiguous().view(1, input_ids.size(0), 128, 768)\n",
    "        encoded_outputs = encoded_outputs[:, :, 0]\n",
    "        seg_encoder_outputs = self.seg_encoder(encoded_outputs)\n",
    "        pooled_output, _ = torch.max(seg_encoder_outputs, 1)\n",
    "        output = self.dropout(pooled_output)\n",
    "        output = self.classifier(output)\n",
    "        return output\n",
    "        \n",
    "        \n",
    "model = HierBERTClassifier(bert_model)"
   ]
  },
  {
   "cell_type": "code",
   "execution_count": 5,
   "metadata": {
    "execution": {
     "iopub.execute_input": "2023-06-22T03:34:22.159930Z",
     "iopub.status.busy": "2023-06-22T03:34:22.159508Z",
     "iopub.status.idle": "2023-06-22T03:34:27.542566Z",
     "shell.execute_reply": "2023-06-22T03:34:27.541440Z",
     "shell.execute_reply.started": "2023-06-22T03:34:22.159892Z"
    }
   },
   "outputs": [],
   "source": [
    "import os\n",
    "import pandas as pd\n",
    "files = sorted([base_path+'/'+f for f in os.listdir(base_path)])\n",
    "case_files = []\n",
    "for file in files:\n",
    "  df = pd.read_csv(file)\n",
    "  df = df.values\n",
    "  cases = []\n",
    "  for row in df:\n",
    "    try: \n",
    "      if(row[0].index(\"\\n(z0\")!=0):\n",
    "        content=row[0][row[0].index(\"\\n(z0\"):]\n",
    "      else:\n",
    "        content = row[0]\n",
    "    except:\n",
    "      continue\n",
    "    cases.append(content)\n",
    "  case_files.append(cases)"
   ]
  },
  {
   "cell_type": "code",
   "execution_count": 6,
   "metadata": {
    "execution": {
     "iopub.execute_input": "2023-06-22T03:34:27.550605Z",
     "iopub.status.busy": "2023-06-22T03:34:27.547977Z",
     "iopub.status.idle": "2023-06-22T03:35:27.776324Z",
     "shell.execute_reply": "2023-06-22T03:35:27.775242Z",
     "shell.execute_reply.started": "2023-06-22T03:34:27.550564Z"
    }
   },
   "outputs": [
    {
     "data": {
      "application/vnd.jupyter.widget-view+json": {
       "model_id": "3e7c510d516043e78530b388ca13ac45",
       "version_major": 2,
       "version_minor": 0
      },
      "text/plain": [
       "Downloading builder script: 0.00B [00:00, ?B/s]"
      ]
     },
     "metadata": {},
     "output_type": "display_data"
    },
    {
     "data": {
      "application/vnd.jupyter.widget-view+json": {
       "model_id": "d8efe0d990de48f3b491c37ddb17facb",
       "version_major": 2,
       "version_minor": 0
      },
      "text/plain": [
       "Downloading metadata: 0.00B [00:00, ?B/s]"
      ]
     },
     "metadata": {},
     "output_type": "display_data"
    },
    {
     "name": "stdout",
     "output_type": "stream",
     "text": [
      "Downloading and preparing dataset fairlex/ecthr (download: 30.44 MiB, generated: 107.98 MiB, post-processed: Unknown size, total: 138.43 MiB) to /root/.cache/huggingface/datasets/coastalcph___fairlex/ecthr/1.0.0/b755f714459ab788a8e3f9167fe7463f79981775296915d36ac10fc58ea93737...\n"
     ]
    },
    {
     "data": {
      "application/vnd.jupyter.widget-view+json": {
       "model_id": "5e3a432ed2cb4d3faad74de3764b25ce",
       "version_major": 2,
       "version_minor": 0
      },
      "text/plain": [
       "Downloading data:   0%|          | 0.00/31.9M [00:00<?, ?B/s]"
      ]
     },
     "metadata": {},
     "output_type": "display_data"
    },
    {
     "data": {
      "application/vnd.jupyter.widget-view+json": {
       "model_id": "",
       "version_major": 2,
       "version_minor": 0
      },
      "text/plain": [
       "Generating train split:   0%|          | 0/9000 [00:00<?, ? examples/s]"
      ]
     },
     "metadata": {},
     "output_type": "display_data"
    },
    {
     "data": {
      "application/vnd.jupyter.widget-view+json": {
       "model_id": "",
       "version_major": 2,
       "version_minor": 0
      },
      "text/plain": [
       "Generating test split:   0%|          | 0/1000 [00:00<?, ? examples/s]"
      ]
     },
     "metadata": {},
     "output_type": "display_data"
    },
    {
     "data": {
      "application/vnd.jupyter.widget-view+json": {
       "model_id": "",
       "version_major": 2,
       "version_minor": 0
      },
      "text/plain": [
       "Generating validation split:   0%|          | 0/1000 [00:00<?, ? examples/s]"
      ]
     },
     "metadata": {},
     "output_type": "display_data"
    },
    {
     "name": "stdout",
     "output_type": "stream",
     "text": [
      "Dataset fairlex downloaded and prepared to /root/.cache/huggingface/datasets/coastalcph___fairlex/ecthr/1.0.0/b755f714459ab788a8e3f9167fe7463f79981775296915d36ac10fc58ea93737. Subsequent calls will reuse this data.\n"
     ]
    },
    {
     "data": {
      "application/vnd.jupyter.widget-view+json": {
       "model_id": "3fb31537d4d34f1fb12280634a3e7422",
       "version_major": 2,
       "version_minor": 0
      },
      "text/plain": [
       "  0%|          | 0/3 [00:00<?, ?it/s]"
      ]
     },
     "metadata": {},
     "output_type": "display_data"
    }
   ],
   "source": [
    "from datasets import load_dataset\n",
    "dataset = load_dataset(\"coastalcph/fairlex\", \"ecthr\")"
   ]
  },
  {
   "cell_type": "code",
   "execution_count": 7,
   "metadata": {
    "execution": {
     "iopub.execute_input": "2023-06-22T03:35:27.779616Z",
     "iopub.status.busy": "2023-06-22T03:35:27.778199Z",
     "iopub.status.idle": "2023-06-22T03:35:43.090794Z",
     "shell.execute_reply": "2023-06-22T03:35:43.089749Z",
     "shell.execute_reply.started": "2023-06-22T03:35:27.779576Z"
    }
   },
   "outputs": [
    {
     "data": {
      "application/vnd.jupyter.widget-view+json": {
       "model_id": "006b374f07ef4d1e8776d594c0f22307",
       "version_major": 2,
       "version_minor": 0
      },
      "text/plain": [
       "  0%|          | 0/1000 [00:00<?, ?it/s]"
      ]
     },
     "metadata": {},
     "output_type": "display_data"
    }
   ],
   "source": [
    "from tqdm.notebook import trange\n",
    "test_case_files = [dataset['test']['text'][i].split('</s>') for i in trange(len(dataset['test']['text']))]"
   ]
  },
  {
   "cell_type": "code",
   "execution_count": 8,
   "metadata": {
    "execution": {
     "iopub.execute_input": "2023-06-22T03:35:43.093315Z",
     "iopub.status.busy": "2023-06-22T03:35:43.092605Z",
     "iopub.status.idle": "2023-06-22T03:35:43.108121Z",
     "shell.execute_reply": "2023-06-22T03:35:43.107384Z",
     "shell.execute_reply.started": "2023-06-22T03:35:43.093276Z"
    }
   },
   "outputs": [
    {
     "name": "stdout",
     "output_type": "stream",
     "text": [
      "[[6], [4], [3], [3], []] 1000\n"
     ]
    }
   ],
   "source": [
    "train_labels = dataset['test']['labels']\n",
    "print(train_labels[:5], len(train_labels))"
   ]
  },
  {
   "cell_type": "code",
   "execution_count": 9,
   "metadata": {
    "execution": {
     "iopub.execute_input": "2023-06-22T03:35:43.110223Z",
     "iopub.status.busy": "2023-06-22T03:35:43.109566Z",
     "iopub.status.idle": "2023-06-22T03:35:43.124044Z",
     "shell.execute_reply": "2023-06-22T03:35:43.123015Z",
     "shell.execute_reply.started": "2023-06-22T03:35:43.110162Z"
    }
   },
   "outputs": [
    {
     "name": "stdout",
     "output_type": "stream",
     "text": [
      "[0, 1, 2, 3, 4, 5, 6, 7, 8, 9]\n",
      "10\n"
     ]
    }
   ],
   "source": [
    "label_vocab = []\n",
    "for label_group in train_labels:\n",
    "  label_vocab.extend(label_group)\n",
    "  label_vocab = list(set(label_vocab))\n",
    "labels_vocab = sorted(label_vocab)\n",
    "print(label_vocab)\n",
    "print(len(label_vocab))"
   ]
  },
  {
   "cell_type": "code",
   "execution_count": 10,
   "metadata": {
    "execution": {
     "iopub.execute_input": "2023-06-22T03:35:43.129504Z",
     "iopub.status.busy": "2023-06-22T03:35:43.128875Z",
     "iopub.status.idle": "2023-06-22T03:35:43.140990Z",
     "shell.execute_reply": "2023-06-22T03:35:43.139691Z",
     "shell.execute_reply.started": "2023-06-22T03:35:43.129469Z"
    }
   },
   "outputs": [],
   "source": [
    "import numpy as np\n",
    "vectored_y = []\n",
    "for label_group in train_labels:\n",
    "  temp = np.zeros(len(label_vocab))\n",
    "  for l in label_group:\n",
    "    temp[label_vocab.index(l)] =1\n",
    "  vectored_y.append(temp)\n",
    "vectored_y = np.stack(vectored_y)"
   ]
  },
  {
   "cell_type": "code",
   "execution_count": 11,
   "metadata": {
    "execution": {
     "iopub.execute_input": "2023-06-22T03:35:43.143691Z",
     "iopub.status.busy": "2023-06-22T03:35:43.142853Z",
     "iopub.status.idle": "2023-06-22T03:35:43.155983Z",
     "shell.execute_reply": "2023-06-22T03:35:43.154945Z",
     "shell.execute_reply.started": "2023-06-22T03:35:43.143635Z"
    }
   },
   "outputs": [],
   "source": [
    "vectored_y = torch.from_numpy(vectored_y).float()"
   ]
  },
  {
   "cell_type": "code",
   "execution_count": 12,
   "metadata": {
    "execution": {
     "iopub.execute_input": "2023-06-22T03:35:43.157538Z",
     "iopub.status.busy": "2023-06-22T03:35:43.157230Z",
     "iopub.status.idle": "2023-06-22T03:35:43.169449Z",
     "shell.execute_reply": "2023-06-22T03:35:43.168408Z",
     "shell.execute_reply.started": "2023-06-22T03:35:43.157514Z"
    }
   },
   "outputs": [],
   "source": [
    "from tqdm import tqdm\n",
    "\n",
    "device = \"cuda\""
   ]
  },
  {
   "cell_type": "code",
   "execution_count": 13,
   "metadata": {
    "execution": {
     "iopub.execute_input": "2023-06-22T03:35:43.171701Z",
     "iopub.status.busy": "2023-06-22T03:35:43.171243Z",
     "iopub.status.idle": "2023-06-22T03:35:51.106883Z",
     "shell.execute_reply": "2023-06-22T03:35:51.105660Z",
     "shell.execute_reply.started": "2023-06-22T03:35:43.171646Z"
    }
   },
   "outputs": [
    {
     "data": {
      "text/plain": [
       "<All keys matched successfully>"
      ]
     },
     "execution_count": 13,
     "metadata": {},
     "output_type": "execute_result"
    }
   ],
   "source": [
    "model.load_state_dict(torch.load('**model_path**'))"
   ]
  },
  {
   "cell_type": "code",
   "execution_count": 14,
   "metadata": {
    "execution": {
     "iopub.execute_input": "2023-06-22T03:35:51.109499Z",
     "iopub.status.busy": "2023-06-22T03:35:51.108629Z",
     "iopub.status.idle": "2023-06-22T03:35:51.169046Z",
     "shell.execute_reply": "2023-06-22T03:35:51.168045Z",
     "shell.execute_reply.started": "2023-06-22T03:35:51.109459Z"
    }
   },
   "outputs": [],
   "source": [
    "model = model.to(device)"
   ]
  },
  {
   "cell_type": "code",
   "execution_count": 15,
   "metadata": {
    "execution": {
     "iopub.execute_input": "2023-06-22T03:35:51.171161Z",
     "iopub.status.busy": "2023-06-22T03:35:51.170566Z",
     "iopub.status.idle": "2023-06-22T03:35:51.179674Z",
     "shell.execute_reply": "2023-06-22T03:35:51.178711Z",
     "shell.execute_reply.started": "2023-06-22T03:35:51.171126Z"
    }
   },
   "outputs": [
    {
     "data": {
      "text/plain": [
       "(1000, torch.Size([1000, 10]))"
      ]
     },
     "execution_count": 15,
     "metadata": {},
     "output_type": "execute_result"
    }
   ],
   "source": [
    "len(case_files), vectored_y.shape"
   ]
  },
  {
   "cell_type": "code",
   "execution_count": 16,
   "metadata": {
    "execution": {
     "iopub.execute_input": "2023-06-22T03:35:51.183242Z",
     "iopub.status.busy": "2023-06-22T03:35:51.181354Z",
     "iopub.status.idle": "2023-06-22T03:35:51.194489Z",
     "shell.execute_reply": "2023-06-22T03:35:51.193325Z",
     "shell.execute_reply.started": "2023-06-22T03:35:51.183163Z"
    }
   },
   "outputs": [
    {
     "data": {
      "text/plain": [
       "HierBERTClassifier(\n",
       "  (bert_model): BertModel(\n",
       "    (embeddings): BertEmbeddings(\n",
       "      (word_embeddings): Embedding(30522, 512, padding_idx=0)\n",
       "      (position_embeddings): Embedding(512, 512)\n",
       "      (token_type_embeddings): Embedding(2, 512)\n",
       "      (LayerNorm): LayerNorm((512,), eps=1e-12, elementwise_affine=True)\n",
       "      (dropout): Dropout(p=0.1, inplace=False)\n",
       "    )\n",
       "    (encoder): BertEncoder(\n",
       "      (layer): ModuleList(\n",
       "        (0-5): 6 x BertLayer(\n",
       "          (attention): BertAttention(\n",
       "            (self): BertSelfAttention(\n",
       "              (query): Linear(in_features=512, out_features=512, bias=True)\n",
       "              (key): Linear(in_features=512, out_features=512, bias=True)\n",
       "              (value): Linear(in_features=512, out_features=512, bias=True)\n",
       "              (dropout): Dropout(p=0.1, inplace=False)\n",
       "            )\n",
       "            (output): BertSelfOutput(\n",
       "              (dense): Linear(in_features=512, out_features=512, bias=True)\n",
       "              (LayerNorm): LayerNorm((512,), eps=1e-12, elementwise_affine=True)\n",
       "              (dropout): Dropout(p=0.1, inplace=False)\n",
       "            )\n",
       "          )\n",
       "          (intermediate): BertIntermediate(\n",
       "            (dense): Linear(in_features=512, out_features=2048, bias=True)\n",
       "            (intermediate_act_fn): GELUActivation()\n",
       "          )\n",
       "          (output): BertOutput(\n",
       "            (dense): Linear(in_features=2048, out_features=512, bias=True)\n",
       "            (LayerNorm): LayerNorm((512,), eps=1e-12, elementwise_affine=True)\n",
       "            (dropout): Dropout(p=0.1, inplace=False)\n",
       "          )\n",
       "        )\n",
       "      )\n",
       "    )\n",
       "    (pooler): BertPooler(\n",
       "      (dense): Linear(in_features=512, out_features=512, bias=True)\n",
       "      (activation): Tanh()\n",
       "    )\n",
       "  )\n",
       "  (seg_encoder): TransformerEncoder(\n",
       "    (layers): ModuleList(\n",
       "      (0-1): 2 x TransformerEncoderLayer(\n",
       "        (self_attn): MultiheadAttention(\n",
       "          (out_proj): NonDynamicallyQuantizableLinear(in_features=512, out_features=512, bias=True)\n",
       "        )\n",
       "        (linear1): Linear(in_features=512, out_features=2048, bias=True)\n",
       "        (dropout): Dropout(p=0.1, inplace=False)\n",
       "        (linear2): Linear(in_features=2048, out_features=512, bias=True)\n",
       "        (norm1): LayerNorm((512,), eps=1e-12, elementwise_affine=True)\n",
       "        (norm2): LayerNorm((512,), eps=1e-12, elementwise_affine=True)\n",
       "        (dropout1): Dropout(p=0.1, inplace=False)\n",
       "        (dropout2): Dropout(p=0.1, inplace=False)\n",
       "      )\n",
       "    )\n",
       "    (norm): LayerNorm((512,), eps=1e-12, elementwise_affine=True)\n",
       "  )\n",
       "  (dropout): Dropout(p=0.1, inplace=False)\n",
       "  (classifier): Linear(in_features=512, out_features=10, bias=True)\n",
       ")"
      ]
     },
     "execution_count": 16,
     "metadata": {},
     "output_type": "execute_result"
    }
   ],
   "source": [
    "model.eval()"
   ]
  },
  {
   "cell_type": "code",
   "execution_count": 17,
   "metadata": {
    "execution": {
     "iopub.execute_input": "2023-06-22T03:35:51.197241Z",
     "iopub.status.busy": "2023-06-22T03:35:51.196752Z",
     "iopub.status.idle": "2023-06-22T03:36:54.335360Z",
     "shell.execute_reply": "2023-06-22T03:36:54.334309Z",
     "shell.execute_reply.started": "2023-06-22T03:35:51.197193Z"
    }
   },
   "outputs": [
    {
     "name": "stderr",
     "output_type": "stream",
     "text": [
      "{'loss': 0.169, 'acc': 0.933, 'f1-score': 0.574, 'precision': 0.599, 'recall': 0.581}: 100%|██████████| 1000/1000 [01:03<00:00, 15.84it/s]\n"
     ]
    }
   ],
   "source": [
    "batch_size=4\n",
    "bar = tqdm(zip(case_files,vectored_y), total=len(vectored_y))\n",
    "running_loss, running_acc, running_prec, running_recall, running_f1 = 0, 0, 0, 0, 0\n",
    "y_true, y_pred = [], []\n",
    "for batch_idx, (case_x, y) in enumerate(bar):\n",
    "    case_x = case_x[-64:]\n",
    "    y = y.to(device)\n",
    "    y = y.unsqueeze(0)\n",
    "    inputs = tokenizer(case_x, return_tensors=\"pt\", padding='max_length', truncation=True, max_length=128).to(device)\n",
    "    out = model(inputs['input_ids'], inputs['attention_mask'])\n",
    "    loss = torch.nn.functional.binary_cross_entropy(torch.sigmoid(out), y)\n",
    "    y_ = (out>0).float()\n",
    "    y_pred.append(y_)\n",
    "    y_true.append(y)\n",
    "    acc = torch.mean((y==y_).float())\n",
    "    running_acc += acc.item()\n",
    "    running_loss += loss.item()\n",
    "    tp, fp, tn, fn = 0,0,0,0\n",
    "    for i,j in zip(y[0], y_[0]):\n",
    "        if i==1 and j==1:\n",
    "            tp += 1\n",
    "        elif i==0 and j==1:\n",
    "            fp += 1\n",
    "        elif i==1 and j==0:\n",
    "            fn += 1\n",
    "        else:\n",
    "            tn += 1\n",
    "    if tp+fp>0:\n",
    "        prec = tp/(tp+fp)\n",
    "    else:\n",
    "        prec = 0.0\n",
    "    if tp+fn>0:\n",
    "        recall = tp/(tp+fn)\n",
    "    else:\n",
    "        recall = 0.0\n",
    "    if prec+recall>0:\n",
    "        f1 = 2*prec*recall/(prec+recall)\n",
    "    else:\n",
    "        f1 = 0.0\n",
    "    running_prec += prec\n",
    "    running_recall += recall\n",
    "    running_f1 += f1\n",
    "    bar.set_description(str({\"loss\": round(running_loss/(batch_idx+1), 3), \"acc\": round(running_acc/(batch_idx+1), 3), \"f1-score\": round(running_f1/(batch_idx+1), 3), \"precision\": round(running_prec/(batch_idx+1), 3), \"recall\": round(running_recall/(batch_idx+1), 3)}))\n",
    "bar.close()"
   ]
  },
  {
   "cell_type": "code",
   "execution_count": 18,
   "metadata": {
    "execution": {
     "iopub.execute_input": "2023-06-22T03:36:54.337706Z",
     "iopub.status.busy": "2023-06-22T03:36:54.337002Z",
     "iopub.status.idle": "2023-06-22T03:36:54.378586Z",
     "shell.execute_reply": "2023-06-22T03:36:54.377324Z",
     "shell.execute_reply.started": "2023-06-22T03:36:54.337650Z"
    }
   },
   "outputs": [
    {
     "data": {
      "text/plain": [
       "(1000, 10)"
      ]
     },
     "execution_count": 18,
     "metadata": {},
     "output_type": "execute_result"
    }
   ],
   "source": [
    "y_pred_np = np.array([y[0].to(\"cpu\").numpy().tolist() for y in y_pred])\n",
    "y_pred_np.shape"
   ]
  },
  {
   "cell_type": "code",
   "execution_count": 19,
   "metadata": {
    "execution": {
     "iopub.execute_input": "2023-06-22T03:36:54.381050Z",
     "iopub.status.busy": "2023-06-22T03:36:54.380616Z",
     "iopub.status.idle": "2023-06-22T03:36:54.422358Z",
     "shell.execute_reply": "2023-06-22T03:36:54.421184Z",
     "shell.execute_reply.started": "2023-06-22T03:36:54.381014Z"
    }
   },
   "outputs": [
    {
     "data": {
      "text/plain": [
       "(1000, 10)"
      ]
     },
     "execution_count": 19,
     "metadata": {},
     "output_type": "execute_result"
    }
   ],
   "source": [
    "y_true_np = np.array([i[0].to(\"cpu\").numpy().tolist() for i in y_true])\n",
    "y_true_np.shape"
   ]
  },
  {
   "cell_type": "code",
   "execution_count": 20,
   "metadata": {
    "execution": {
     "iopub.execute_input": "2023-06-22T03:36:54.424515Z",
     "iopub.status.busy": "2023-06-22T03:36:54.424119Z",
     "iopub.status.idle": "2023-06-22T03:36:54.852076Z",
     "shell.execute_reply": "2023-06-22T03:36:54.850742Z",
     "shell.execute_reply.started": "2023-06-22T03:36:54.424481Z"
    }
   },
   "outputs": [],
   "source": [
    "from sklearn.metrics import f1_score"
   ]
  },
  {
   "cell_type": "code",
   "execution_count": 21,
   "metadata": {
    "execution": {
     "iopub.execute_input": "2023-06-22T03:36:54.855265Z",
     "iopub.status.busy": "2023-06-22T03:36:54.854874Z",
     "iopub.status.idle": "2023-06-22T03:36:54.877409Z",
     "shell.execute_reply": "2023-06-22T03:36:54.876100Z",
     "shell.execute_reply.started": "2023-06-22T03:36:54.855225Z"
    }
   },
   "outputs": [
    {
     "data": {
      "text/plain": [
       "0.5272588494570776"
      ]
     },
     "execution_count": 21,
     "metadata": {},
     "output_type": "execute_result"
    }
   ],
   "source": [
    "f1_score(y_true_np, y_pred_np, average='macro')"
   ]
  },
  {
   "cell_type": "code",
   "execution_count": 22,
   "metadata": {
    "execution": {
     "iopub.execute_input": "2023-06-22T03:36:54.879994Z",
     "iopub.status.busy": "2023-06-22T03:36:54.879496Z",
     "iopub.status.idle": "2023-06-22T03:36:54.901542Z",
     "shell.execute_reply": "2023-06-22T03:36:54.900277Z",
     "shell.execute_reply.started": "2023-06-22T03:36:54.879952Z"
    }
   },
   "outputs": [],
   "source": [
    "class Evaluator:\n",
    "  def __init__(self, dataset, outputs, label_vocab):\n",
    "    self.data = dataset\n",
    "    self.out = outputs\n",
    "    self.label_vocab = label_vocab\n",
    "    self.key_breakdown = {'applicant_gender': ['N/A', 'male', 'female'],\n",
    "                          'applicant_age': ['N/A', '<=35', '<=65', '>65'],\n",
    "                          'defendant_state': ['E.C.', 'West']}\n",
    "\n",
    "  def breakdowner(self, group_label='applicant_gender'):\n",
    "    print(group_label)\n",
    "    groups = sorted(list(set(self.data[group_label])))\n",
    "    f1_scores = []\n",
    "    display_df = []\n",
    "    for group in groups:\n",
    "      true_group_set, out_group_set = [], []\n",
    "      for i in range(self.out.shape[0]):\n",
    "        if self.data[group_label][i]==group:\n",
    "          row = np.zeros(self.out.shape[1])\n",
    "          for t in self.data['labels'][i]:\n",
    "            row[self.label_vocab.index(t)] = 1\n",
    "          true_group_set.append(row)\n",
    "          out_group_set.append(self.out[i])\n",
    "      true_group_set = np.array(true_group_set)\n",
    "      out_group_set = np.stack(out_group_set)\n",
    "      group_f1 = f1_score(true_group_set, out_group_set, average='macro', zero_division=1)\n",
    "      total_test_cases = true_group_set.shape[0]\n",
    "      f1_scores.append(group_f1)\n",
    "      minimum_f1, minimum_f1_index = 2, 0\n",
    "      for col_idx, (col_true, col_out) in enumerate(zip(true_group_set.T, out_group_set.T)):\n",
    "        case_f1 = f1_score(col_true, col_out, average='macro', zero_division=1)\n",
    "        if case_f1<minimum_f1:\n",
    "          minimum_f1 = case_f1\n",
    "          minimum_f1_index = col_idx\n",
    "      worst_column = true_group_set.T[minimum_f1_index]\n",
    "      worst_class_influence = np.sum(worst_column)/total_test_cases\n",
    "      display_df.append([self.key_breakdown[group_label][group], round(group_f1, 3), round(worst_class_influence, 3)])\n",
    "    display_df = pd.DataFrame(np.array(display_df))\n",
    "    display_df.columns = [\"attribute\", 'mF1', 'WCI']\n",
    "    print(display_df)\n",
    "    print()\n",
    "    return round(np.mean(f1_scores)*100, 2), round(np.std(f1_scores)*100, 2), round(np.min(f1_scores)*100, 2)\n",
    "\n",
    "  def label_runner(self):\n",
    "    df = {\"category\": [], \"Avg Performance Across Groups\": [], \"Group Disparity\": [], \"Worst Group Performance\": []}\n",
    "    for group_label in ['applicant_age', 'applicant_gender', 'defendant_state']:\n",
    "      out = self.breakdowner(group_label)\n",
    "      df[\"category\"].append(group_label)\n",
    "      df[\"Avg Performance Across Groups\"].append(out[0])\n",
    "      df[\"Group Disparity\"].append(out[1])\n",
    "      df[\"Worst Group Performance\"].append(out[2])\n",
    "    df = pd.DataFrame(df)\n",
    "    return df"
   ]
  },
  {
   "cell_type": "code",
   "execution_count": 23,
   "metadata": {
    "execution": {
     "iopub.execute_input": "2023-06-22T03:36:54.903564Z",
     "iopub.status.busy": "2023-06-22T03:36:54.903061Z",
     "iopub.status.idle": "2023-06-22T03:37:14.064616Z",
     "shell.execute_reply": "2023-06-22T03:37:14.063538Z",
     "shell.execute_reply.started": "2023-06-22T03:36:54.903521Z"
    }
   },
   "outputs": [
    {
     "name": "stdout",
     "output_type": "stream",
     "text": [
      "applicant_age\n",
      "  attribute    mF1    WCI\n",
      "0       N/A  0.546  0.017\n",
      "1      <=35  0.534  0.031\n",
      "2      <=65  0.485  0.009\n",
      "3       >65  0.621  0.031\n",
      "\n",
      "applicant_gender\n",
      "  attribute    mF1    WCI\n",
      "0       N/A  0.552  0.018\n",
      "1      male  0.485  0.011\n",
      "2    female   0.43  0.029\n",
      "\n",
      "defendant_state\n",
      "  attribute    mF1    WCI\n",
      "0      E.C.  0.532  0.017\n",
      "1      West   0.62  0.013\n",
      "\n"
     ]
    },
    {
     "data": {
      "text/html": [
       "<div>\n",
       "<style scoped>\n",
       "    .dataframe tbody tr th:only-of-type {\n",
       "        vertical-align: middle;\n",
       "    }\n",
       "\n",
       "    .dataframe tbody tr th {\n",
       "        vertical-align: top;\n",
       "    }\n",
       "\n",
       "    .dataframe thead th {\n",
       "        text-align: right;\n",
       "    }\n",
       "</style>\n",
       "<table border=\"1\" class=\"dataframe\">\n",
       "  <thead>\n",
       "    <tr style=\"text-align: right;\">\n",
       "      <th></th>\n",
       "      <th>category</th>\n",
       "      <th>Avg Performance Across Groups</th>\n",
       "      <th>Group Disparity</th>\n",
       "      <th>Worst Group Performance</th>\n",
       "    </tr>\n",
       "  </thead>\n",
       "  <tbody>\n",
       "    <tr>\n",
       "      <th>0</th>\n",
       "      <td>applicant_age</td>\n",
       "      <td>54.64</td>\n",
       "      <td>4.84</td>\n",
       "      <td>48.54</td>\n",
       "    </tr>\n",
       "    <tr>\n",
       "      <th>1</th>\n",
       "      <td>applicant_gender</td>\n",
       "      <td>48.91</td>\n",
       "      <td>4.97</td>\n",
       "      <td>43.04</td>\n",
       "    </tr>\n",
       "    <tr>\n",
       "      <th>2</th>\n",
       "      <td>defendant_state</td>\n",
       "      <td>57.60</td>\n",
       "      <td>4.41</td>\n",
       "      <td>53.19</td>\n",
       "    </tr>\n",
       "  </tbody>\n",
       "</table>\n",
       "</div>"
      ],
      "text/plain": [
       "           category  Avg Performance Across Groups  Group Disparity  \\\n",
       "0     applicant_age                          54.64             4.84   \n",
       "1  applicant_gender                          48.91             4.97   \n",
       "2   defendant_state                          57.60             4.41   \n",
       "\n",
       "   Worst Group Performance  \n",
       "0                    48.54  \n",
       "1                    43.04  \n",
       "2                    53.19  "
      ]
     },
     "execution_count": 23,
     "metadata": {},
     "output_type": "execute_result"
    }
   ],
   "source": [
    "evaluator = Evaluator(dataset['test'], y_pred_np, [0, 1, 2, 3, 4, 5, 6, 7, 8, 9])\n",
    "evaluator.label_runner()"
   ]
  },
  {
   "cell_type": "code",
   "execution_count": null,
   "metadata": {},
   "outputs": [],
   "source": []
  }
 ],
 "metadata": {
  "kernelspec": {
   "display_name": "Python 3 (ipykernel)",
   "language": "python",
   "name": "python3"
  },
  "language_info": {
   "codemirror_mode": {
    "name": "ipython",
    "version": 3
   },
   "file_extension": ".py",
   "mimetype": "text/x-python",
   "name": "python",
   "nbconvert_exporter": "python",
   "pygments_lexer": "ipython3",
   "version": "3.9.13"
  }
 },
 "nbformat": 4,
 "nbformat_minor": 4
}
